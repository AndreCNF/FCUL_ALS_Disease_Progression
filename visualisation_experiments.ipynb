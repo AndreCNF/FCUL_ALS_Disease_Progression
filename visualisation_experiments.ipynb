{
 "cells": [
  {
   "cell_type": "code",
   "execution_count": null,
   "metadata": {},
   "outputs": [],
   "source": [
    "import plotly                    # Plotly for interactive and pretty plots\n",
    "import plotly.graph_objs as go\n",
    "import numpy as np               # Math operations with NumPy to confirm model's behaviour\n",
    "import colorlover as cl          # Get colors from colorscales\n",
    "from ModelInterpreter import ModelInterpreter # Class that enables the interpretation of models that handle variable sequence length input data"
   ]
  },
  {
   "cell_type": "code",
   "execution_count": null,
   "metadata": {},
   "outputs": [],
   "source": [
    "# Debugging packages\n",
    "import pixiedust                 # Debugging in Jupyter Notebook cells"
   ]
  },
  {
   "cell_type": "markdown",
   "metadata": {
    "colab_type": "text",
    "id": "bEqFkmlYCGOz"
   },
   "source": [
    "**Important:** Use the following two lines to be able to do plotly plots offline:"
   ]
  },
  {
   "cell_type": "code",
   "execution_count": null,
   "metadata": {
    "colab": {},
    "colab_type": "code",
    "id": "fZCUmUOzCPeI"
   },
   "outputs": [],
   "source": [
    "import plotly.offline as py\n",
    "plotly.offline.init_notebook_mode(connected=True)"
   ]
  },
  {
   "cell_type": "markdown",
   "metadata": {
    "colab_type": "text",
    "id": "Yrzi8YbzDVTH"
   },
   "source": [
    "**Important:** The following function is needed in every Google Colab cell that contains a Plotly chart:"
   ]
  },
  {
   "cell_type": "code",
   "execution_count": null,
   "metadata": {},
   "outputs": [],
   "source": [
    "trace1 = {\"x\": [72, 67, 73, 80, 76, 79, 84, 78, 86, 93, 94, 90, 92, 96, 94, 112], \n",
    "          \"y\": [\"Brown\", \"NYU\", \"Notre Dame\", \"Cornell\", \"Tufts\", \"Yale\",\n",
    "                \"Dartmouth\", \"Chicago\", \"Columbia\", \"Duke\", \"Georgetown\",\n",
    "                \"Princeton\", \"U.Penn\", \"Stanford\", \"MIT\", \"Harvard\"], \n",
    "          \"marker\": {\"color\": \"pink\", \"size\": 12}, \n",
    "          \"mode\": \"markers\", \n",
    "          \"name\": \"Women\", \n",
    "          \"type\": \"scatter\"\n",
    "}\n",
    "\n",
    "trace2 = {\"x\": [92, 94, 100, 107, 112, 114, 114, 118, 119, 124, 131, 137, 141, 151, 152, 165], \n",
    "          \"y\": [\"Brown\", \"NYU\", \"Notre Dame\", \"Cornell\", \"Tufts\", \"Yale\",\n",
    "                \"Dartmouth\", \"Chicago\", \"Columbia\", \"Duke\", \"Georgetown\",\n",
    "                \"Princeton\", \"U.Penn\", \"Stanford\", \"MIT\", \"Harvard\"], \n",
    "          \"marker\": {\"color\": \"blue\", \"size\": 12}, \n",
    "          \"mode\": \"markers\", \n",
    "          \"name\": \"Men\", \n",
    "          \"type\": \"scatter\", \n",
    "}\n",
    "\n",
    "data = [trace1, trace2]\n",
    "layout = {\"title\": \"Gender Earnings Disparity\", \n",
    "          \"xaxis\": {\"title\": \"Annual Salary (in thousands)\", }, \n",
    "          \"yaxis\": {\"title\": \"School\"}}\n",
    "\n",
    "fig = go.Figure(data=data, layout=layout)\n",
    "py.iplot(fig, filename='basic_dot-plot')"
   ]
  },
  {
   "cell_type": "code",
   "execution_count": null,
   "metadata": {},
   "outputs": [],
   "source": [
    "patients = np.array([0, 1, 2, 3, 4])\n",
    "scores = np.array([[-0.3, -0.1, 0, 0, 0.2, 0.7, 0.8, 1, 1],\n",
    "                   [0.1, 0, 0.4, 0.5, 0.6, 0.8, 0.85, np.nan, np.nan],\n",
    "                   [0.2, 0.1, 0, -0.1, -0.2, -0.9, np.nan, np.nan, np.nan],\n",
    "                   [-0.7, -0.5, -0.1, 0, 0.1, np.nan, np.nan, np.nan, np.nan],\n",
    "                   [-0.5, -0.5, -1, np.nan, np.nan, np.nan, np.nan, np.nan, np.nan]])\n",
    "preds = np.array([0.9, 0.75, 0.3, 0.4, 0.1])"
   ]
  },
  {
   "cell_type": "code",
   "execution_count": null,
   "metadata": {},
   "outputs": [],
   "source": [
    "patients"
   ]
  },
  {
   "cell_type": "code",
   "execution_count": null,
   "metadata": {},
   "outputs": [],
   "source": [
    "scores"
   ]
  },
  {
   "cell_type": "code",
   "execution_count": null,
   "metadata": {},
   "outputs": [],
   "source": [
    "scores.shape"
   ]
  },
  {
   "cell_type": "code",
   "execution_count": null,
   "metadata": {},
   "outputs": [],
   "source": [
    "x = [list(range(scores.shape[1])) for patient in range(patients.shape[0])]\n",
    "x"
   ]
  },
  {
   "cell_type": "code",
   "execution_count": null,
   "metadata": {},
   "outputs": [],
   "source": [
    "y = [[patient]*scores.shape[1] for patient in list(patients)]\n",
    "y"
   ]
  },
  {
   "cell_type": "code",
   "execution_count": null,
   "metadata": {},
   "outputs": [],
   "source": [
    "# Flatten x and y\n",
    "x = list(np.array(x).flatten())\n",
    "y = list(np.array(y).flatten())"
   ]
  },
  {
   "cell_type": "code",
   "execution_count": null,
   "metadata": {},
   "outputs": [],
   "source": [
    "abs(scores.flatten()[0])"
   ]
  },
  {
   "cell_type": "code",
   "execution_count": null,
   "metadata": {},
   "outputs": [],
   "source": [
    "# Define colors for the data points based on their scores\n",
    "colors = [f'rgba(30,136,229,{abs(val)})' if val < 0 else f'rgba(255,13,87,{abs(val)})'\n",
    "          for val in scores.flatten()]\n",
    "colors"
   ]
  },
  {
   "cell_type": "code",
   "execution_count": null,
   "metadata": {},
   "outputs": [],
   "source": [
    "# Define colors for the data points based on their scores\n",
    "colors = [(val+1)/2 for val in scores.flatten()]\n",
    "colors"
   ]
  },
  {
   "cell_type": "code",
   "execution_count": null,
   "metadata": {},
   "outputs": [],
   "source": [
    "list(zip(x, y, colors))"
   ]
  },
  {
   "cell_type": "code",
   "execution_count": null,
   "metadata": {},
   "outputs": [],
   "source": [
    "# Count the number of already deleted items\n",
    "count = 0\n",
    "\n",
    "for i in range(scores.shape[0]):\n",
    "    for j in range(scores.shape[1]):\n",
    "        if np.isnan(scores[i, j]):\n",
    "            # Delete elements with NaN score\n",
    "            del x[i*scores.shape[1]+j-count]\n",
    "            del y[i*scores.shape[1]+j-count]\n",
    "            del colors[i*scores.shape[1]+j-count]\n",
    "            \n",
    "            # Increment the counting of already deleted items\n",
    "            count += 1"
   ]
  },
  {
   "cell_type": "code",
   "execution_count": null,
   "metadata": {},
   "outputs": [],
   "source": [
    "colors"
   ]
  },
  {
   "cell_type": "code",
   "execution_count": null,
   "metadata": {},
   "outputs": [],
   "source": [
    "data = [{\"x\": x, \n",
    "         \"y\": y, \n",
    "         \"marker\": dict(color=colors, size=10, \n",
    "                        line = dict(\n",
    "                                     color = 'black',\n",
    "                                     width = 1\n",
    "                                   ),\n",
    "                        colorbar=dict(title='Scores'),\n",
    "                        colorscale=[[0, 'rgba(30,136,229,1)'], [0.5, 'white'], [1, 'rgba(255,13,87,1)']]),\n",
    "         \"mode\": \"markers\",\n",
    "         \"type\": \"scatter\"\n",
    "        }]\n",
    "layout = go.Layout(\n",
    "                    title=\"Patients list test\",\n",
    "                    xaxis=dict(\n",
    "                                title=\"Instance\",\n",
    "                                showgrid=False,\n",
    "                                zeroline=False\n",
    "                              ),\n",
    "                    yaxis=dict(\n",
    "                                title=\"Patient ID\",\n",
    "                                showgrid=False,\n",
    "                                zeroline=False\n",
    "                              ),\n",
    "                    hovermode=\"closest\"\n",
    ")\n",
    "\n",
    "fig = go.Figure(data=data, layout=layout)\n",
    "py.iplot(fig, filename='basic_dot-plot')"
   ]
  },
  {
   "cell_type": "code",
   "execution_count": null,
   "metadata": {},
   "outputs": [],
   "source": [
    "data = [\n",
    "    go.Scatter(\n",
    "        y=[5, 5, 5, 5, 5, 5, 5, 5, 5, 5, 5, 5, 5, 5, 5, 5, 5, 5, 5, 5, 5, 5, 5, 5, 5, 5, 5, 5, 5, 5, 5, 5, 5, 5, 5, 5, 5, 5, 5, 5],\n",
    "        marker=dict(\n",
    "            size=16,\n",
    "            cmax=39,\n",
    "            cmin=0,\n",
    "            color=[0, 1, 2, 3, 4, 5, 6, 7, 8, 9, 10, 11, 12, 13, 14, 15, 16, 17, 18, 19, 20, 21, 22, 23, 24, 25, 26, 27, 28, 29, 30, 31, 32, 33, 34, 35, 36, 37, 38, 39],\n",
    "            colorbar=dict(\n",
    "                title='Colorbar'\n",
    "            ),\n",
    "            colorscale=[[0, 'blue'], [0.5, 'white'], [1, 'red']]\n",
    "        ),\n",
    "        mode='markers')\n",
    "]\n",
    "\n",
    "fig = go.Figure(data=data)\n",
    "py.iplot(fig)"
   ]
  },
  {
   "cell_type": "code",
   "execution_count": null,
   "metadata": {},
   "outputs": [],
   "source": [
    "fig_wdgt = go.FigureWidget(fig)\n",
    "fig_wdgt"
   ]
  },
  {
   "cell_type": "code",
   "execution_count": null,
   "metadata": {},
   "outputs": [],
   "source": [
    "trace1 = go.Scatter(\n",
    "    x=[0, 1, 2, 3, 4, 5, 6, 7, 8],\n",
    "    y=[8, 7, 6, 5, 4, 3, 2, 1, 0]\n",
    ")\n",
    "trace2 = go.Scatter(\n",
    "    x=[0, 1, 2, 3, 4, 5, 6, 7, 8],\n",
    "    y=[0, 1, 2, 3, 4, 5, 6, 7, 8]\n",
    ")\n",
    "data = [trace1, trace2]\n",
    "layout = go.Layout(\n",
    "    xaxis=dict(\n",
    "        autorange=True,\n",
    "        showgrid=False,\n",
    "        zeroline=False,\n",
    "        showline=False,\n",
    "        ticks='',\n",
    "        showticklabels=False\n",
    "    ),\n",
    "    yaxis=dict(\n",
    "        autorange=True,\n",
    "        showgrid=False,\n",
    "        zeroline=False,\n",
    "        showline=False,\n",
    "        ticks='',\n",
    "        showticklabels=False\n",
    "    )\n",
    ")\n",
    "fig = go.Figure(data=data, layout=layout)\n",
    "py.iplot(fig, filename='axes-booleans')\n"
   ]
  },
  {
   "cell_type": "code",
   "execution_count": null,
   "metadata": {},
   "outputs": [],
   "source": [
    "x2 = np.random.rand(100)\n",
    "y2 = np.random.rand(100)\n",
    "\n",
    "f = go.FigureWidget([go.Scatter(x=x2, y=y2, mode='markers')])\n",
    "\n",
    "scatter = f.data[0]\n",
    "colors2 = ['#a3a7e4'] * 100\n",
    "scatter.marker.color = colors2\n",
    "scatter.marker.size = [10] * 100\n",
    "f.layout.hovermode = 'closest'\n",
    "\n",
    "\n",
    "# create our callback function\n",
    "def update_point(trace, points, selector):\n",
    "    c = list(scatter.marker.color)\n",
    "    s = list(scatter.marker.size)\n",
    "    for i in points.point_inds:\n",
    "        c[i] = '#bae2be'\n",
    "        s[i] = 20\n",
    "        scatter.marker.color = c\n",
    "        scatter.marker.size = s\n",
    "\n",
    "\n",
    "scatter.on_click(update_point)\n",
    "\n",
    "f"
   ]
  },
  {
   "cell_type": "code",
   "execution_count": null,
   "metadata": {},
   "outputs": [],
   "source": [
    "dots = fig_wdgt.data[0]\n",
    "\n",
    "# create our callback function\n",
    "def update_point(trace, points, selector):\n",
    "    c = list(dots.marker.color)\n",
    "    for i in points.point_inds:\n",
    "        c[i] = '#bae2be'\n",
    "        dots.marker.color = c\n",
    "\n",
    "# add the callback function to each click on a data point\n",
    "dots.on_click(update_point)\n",
    "fig_wdgt"
   ]
  },
  {
   "cell_type": "code",
   "execution_count": null,
   "metadata": {},
   "outputs": [],
   "source": [
    "dots.marker.size"
   ]
  },
  {
   "cell_type": "code",
   "execution_count": null,
   "metadata": {},
   "outputs": [],
   "source": [
    "trace0 = go.Scatter(\n",
    "    x=[1.5, 4.5],\n",
    "    y=[0.75, 0.75],\n",
    "    text=['Unfilled Rectangle', 'Filled Rectangle'],\n",
    "    mode='text',\n",
    ")\n",
    "data = [trace0]\n",
    "layout = {\n",
    "    'xaxis': {\n",
    "        'range': [0, 7],\n",
    "        'showgrid': False,\n",
    "    },\n",
    "    'yaxis': {\n",
    "        'range': [0, 3.5]\n",
    "    },\n",
    "    'shapes': [\n",
    "        # unfilled Rectangle\n",
    "        {\n",
    "            'type': 'rect',\n",
    "            'x0': 1,\n",
    "            'y0': 1,\n",
    "            'x1': 2,\n",
    "            'y1': 3,\n",
    "            'line': {\n",
    "                'color': 'rgba(128, 0, 128, 1)',\n",
    "            },\n",
    "        },\n",
    "        # filled Rectangle\n",
    "        {\n",
    "            'type': 'rect',\n",
    "            'x0': 3,\n",
    "            'y0': 1,\n",
    "            'x1': 6,\n",
    "            'y1': 2,\n",
    "            'line': {\n",
    "                'color': 'rgba(128, 0, 128, 1)',\n",
    "                'width': 2,\n",
    "            },\n",
    "            'fillcolor': 'rgba(128, 0, 128, 0.7)',\n",
    "        },\n",
    "    ]\n",
    "}\n",
    "fig = {\n",
    "    'data': data,\n",
    "    'layout': layout,\n",
    "}\n",
    "py.iplot(fig, filename='shapes-rectangle')"
   ]
  },
  {
   "cell_type": "code",
   "execution_count": null,
   "metadata": {},
   "outputs": [],
   "source": [
    "# Create \"percentage bar\" plots through pairs of unfilled and filled rectangles\n",
    "shapes_list = []\n",
    "\n",
    "# Starting y coordinate of the first shape\n",
    "y0 = 0\n",
    "\n",
    "# Height of the shapes (y length)\n",
    "step = 0.5\n",
    "\n",
    "for i in range(5):\n",
    "    # Set the starting y coordinate for the new shapes\n",
    "    y0 = y0 + step + 1\n",
    "    shape_unfilled = {\n",
    "                        'type': 'rect',\n",
    "                        'x0': 1,\n",
    "                        'y0': y0,\n",
    "                        'x1': 2,\n",
    "                        'y1': y0 + step,\n",
    "                        'line': {\n",
    "                                    'color': 'rgba(0, 0, 0, 1)',\n",
    "                                    'width': 2,\n",
    "                                },\n",
    "                     }\n",
    "    \n",
    "    shape_filled = {\n",
    "                        'type': 'rect',\n",
    "                        'x0': 1,\n",
    "                        'y0': y0,\n",
    "                        'x1': 1 + (i / 4),\n",
    "                        'y1': y0 + step,\n",
    "                        'line': {\n",
    "                                    'color': 'rgba(0, 0, 0, 1)',\n",
    "                                    'width': 2,\n",
    "                                },\n",
    "                        'fillcolor': 'rgba(128, 0, 128, 0.7)'\n",
    "                     }\n",
    "    shapes_list.append(shape_unfilled)\n",
    "    shapes_list.append(shape_filled)"
   ]
  },
  {
   "cell_type": "code",
   "execution_count": null,
   "metadata": {},
   "outputs": [],
   "source": [
    "shapes_list"
   ]
  },
  {
   "cell_type": "code",
   "execution_count": null,
   "metadata": {},
   "outputs": [],
   "source": [
    "trace0 = go.Scatter()\n",
    "data = [trace0]\n",
    "layout = {\n",
    "            'xaxis': {\n",
    "                        'range': [0, 3],\n",
    "                        'showgrid': False,\n",
    "                     },\n",
    "            'yaxis': {\n",
    "                        'range': [0, 10]\n",
    "                     },\n",
    "            'shapes': shapes_list\n",
    "         }\n",
    "fig = {\n",
    "        'data': data,\n",
    "        'layout': layout,\n",
    "      }\n",
    "py.iplot(fig, filename='shapes-rectangle')"
   ]
  },
  {
   "cell_type": "code",
   "execution_count": null,
   "metadata": {},
   "outputs": [],
   "source": [
    "from IPython.display import HTML"
   ]
  },
  {
   "cell_type": "code",
   "execution_count": null,
   "metadata": {},
   "outputs": [],
   "source": [
    "HTML(cl.to_html(cl.scales['8']['div']['RdYlGn']))"
   ]
  },
  {
   "cell_type": "code",
   "execution_count": null,
   "metadata": {},
   "outputs": [],
   "source": [
    "# Colors to use in the prediction probability bar plots\n",
    "pred_colors = cl.scales['8']['div']['RdYlGn']\n",
    "pred_colors"
   ]
  },
  {
   "cell_type": "code",
   "execution_count": null,
   "metadata": {},
   "outputs": [],
   "source": [
    "# Create \"percentage bar\" plots through pairs of unfilled and filled rectangles\n",
    "shapes_list = []\n",
    "\n",
    "# Starting y coordinate of the first shape\n",
    "y0 = 0\n",
    "\n",
    "# Height of the shapes (y length)\n",
    "step = 0.5\n",
    "\n",
    "for i in range(5):\n",
    "    # Set the starting y coordinate for the new shapes\n",
    "    y0 = y0 + 2 * step\n",
    "    \n",
    "    # Set the filling length of the shape\n",
    "    x1_fill = 1 + (i / 4)\n",
    "    \n",
    "    shape_unfilled = {\n",
    "                        'type': 'rect',\n",
    "                        'x0': 1,\n",
    "                        'y0': y0,\n",
    "                        'x1': 2,\n",
    "                        'y1': y0 + step,\n",
    "                        'line': {\n",
    "                                    'color': 'rgba(0, 0, 0, 1)',\n",
    "                                    'width': 2,\n",
    "                                },\n",
    "                     }\n",
    "    \n",
    "    shape_filled = {\n",
    "                        'type': 'rect',\n",
    "                        'x0': 1,\n",
    "                        'y0': y0,\n",
    "                        'x1': x1_fill,\n",
    "                        'y1': y0 + step,\n",
    "                        'line': {\n",
    "                                    'color': 'rgba(0, 0, 0, 1)',\n",
    "                                    'width': 2,\n",
    "                                },\n",
    "                        'fillcolor': pred_colors[len(pred_colors)-1-(max(round((x1_fill-1)*len(pred_colors)-1), 0))]\n",
    "                     }\n",
    "    shapes_list.append(shape_unfilled)\n",
    "    shapes_list.append(shape_filled)"
   ]
  },
  {
   "cell_type": "code",
   "execution_count": null,
   "metadata": {},
   "outputs": [],
   "source": [
    "shapes_list"
   ]
  },
  {
   "cell_type": "code",
   "execution_count": null,
   "metadata": {},
   "outputs": [],
   "source": [
    "trace0 = go.Scatter()\n",
    "data = [trace0]\n",
    "layout = {\n",
    "            'xaxis': {\n",
    "                        'range': [0, 3],\n",
    "                        'showgrid': False,\n",
    "                     },\n",
    "            'yaxis': {\n",
    "                        'range': [0, 6]\n",
    "                     },\n",
    "            'shapes': shapes_list\n",
    "         }\n",
    "fig = {\n",
    "        'data': data,\n",
    "        'layout': layout,\n",
    "      }\n",
    "py.iplot(fig, filename='shapes-rectangle')"
   ]
  },
  {
   "cell_type": "code",
   "execution_count": null,
   "metadata": {
    "pixiedust": {
     "displayParams": {}
    }
   },
   "outputs": [],
   "source": [
    "# Create \"percentage bar\" plots through pairs of unfilled and filled rectangles\n",
    "shapes_list = []\n",
    "\n",
    "# Starting y coordinate of the first shape\n",
    "y0 = -0.25\n",
    "\n",
    "# Height of the shapes (y length)\n",
    "step = 0.5\n",
    "\n",
    "for i in range(len(patients)):\n",
    "    # Set the starting x coordinate to after the last data point\n",
    "    x0 = scores.shape[1]\n",
    "\n",
    "    # Set the filling length of the shape\n",
    "    x1_fill = x0 + preds[i]\n",
    "    \n",
    "    shape_unfilled = {\n",
    "                        'type': 'rect',\n",
    "                        'x0': x0,\n",
    "                        'y0': y0,\n",
    "                        'x1': x0 + 1,\n",
    "                        'y1': y0 + step,\n",
    "                        'line': {\n",
    "                                    'color': 'rgba(0, 0, 0, 1)',\n",
    "                                    'width': 2,\n",
    "                                },\n",
    "                     }\n",
    "    \n",
    "    shape_filled = {\n",
    "                        'type': 'rect',\n",
    "                        'x0': x0,\n",
    "                        'y0': y0,\n",
    "                        'x1': x1_fill,\n",
    "                        'y1': y0 + step,\n",
    "                        'fillcolor': pred_colors[int(len(pred_colors)-1-(max(preds[i]*len(pred_colors)-1, 0)))]\n",
    "                     }\n",
    "    shapes_list.append(shape_unfilled)\n",
    "    shapes_list.append(shape_filled)\n",
    "    \n",
    "    # Set the starting y coordinate for the next shapes\n",
    "    y0 = y0 + 2 * step"
   ]
  },
  {
   "cell_type": "code",
   "execution_count": null,
   "metadata": {},
   "outputs": [],
   "source": [
    "# Getting points along the percentage bar plots\n",
    "x_range = [list(np.array(range(0, 10, 1))*0.1+scores.shape[1]) for idx in range(len(patients))]\n",
    "\n",
    "# Flatten the list\n",
    "text_x = [item for sublist in x_range for item in sublist]\n",
    "text_x"
   ]
  },
  {
   "cell_type": "code",
   "execution_count": null,
   "metadata": {},
   "outputs": [],
   "source": [
    "# Y coordinates of the prediction probability text\n",
    "text_y = [patient for patient in patients for idx in range(10)]\n",
    "text_y"
   ]
  },
  {
   "cell_type": "code",
   "execution_count": null,
   "metadata": {},
   "outputs": [],
   "source": [
    "# Prediction probabilities in text form, to appear in the plot\n",
    "text_content = [preds[idx] for idx in range(len(preds)) for i in range(10)]\n",
    "text_content"
   ]
  },
  {
   "cell_type": "code",
   "execution_count": null,
   "metadata": {},
   "outputs": [],
   "source": [
    "list(zip(text_x, text_y, text_content))"
   ]
  },
  {
   "cell_type": "code",
   "execution_count": null,
   "metadata": {},
   "outputs": [],
   "source": [
    "data = [{\"x\": x, \n",
    "         \"y\": y, \n",
    "         \"marker\": dict(color=colors, size=12, \n",
    "                        line = dict(\n",
    "                                     color = 'black',\n",
    "                                     width = 1\n",
    "                                   ),\n",
    "                        colorbar=dict(title='Normalized scores'),\n",
    "                        colorscale=[[0, 'rgba(30,136,229,1)'], [0.5, 'white'], [1, 'rgba(255,13,87,1)']]),\n",
    "         \"mode\": \"markers\",\n",
    "         \"type\": \"scatter\",\n",
    "         \"hoverinfo\": 'x+y'\n",
    "        },\n",
    "        go.Scatter(\n",
    "                    x=text_x,\n",
    "                    y=text_y,\n",
    "                    text=text_content,\n",
    "                    mode='text',\n",
    "                    textfont=dict(color='#ffffff'),\n",
    "                    hoverinfo='text'\n",
    "        )]\n",
    "layout = go.Layout(\n",
    "                    title=\"Patients list test\",\n",
    "                    xaxis=dict(\n",
    "                                title=\"Instance\",\n",
    "                                showgrid=False,\n",
    "                                zeroline=False\n",
    "                              ),\n",
    "                    yaxis=dict(\n",
    "                                title=\"Patient ID\",\n",
    "                                showgrid=False,\n",
    "                                zeroline=False\n",
    "                              ),\n",
    "                    hovermode=\"closest\",\n",
    "                    shapes=shapes_list,\n",
    "                    showlegend=False\n",
    ")\n",
    "\n",
    "fig = go.Figure(data=data, layout=layout)\n",
    "py.iplot(fig, filename='basic_dot-plot')"
   ]
  },
  {
   "cell_type": "code",
   "execution_count": null,
   "metadata": {},
   "outputs": [],
   "source": [
    "l = [[1, 2, 3], [4, 5, 6], [7, 8, 9]]\n",
    "l"
   ]
  },
  {
   "cell_type": "code",
   "execution_count": null,
   "metadata": {},
   "outputs": [],
   "source": [
    "[item for sublist in l for item in sublist]"
   ]
  },
  {
   "cell_type": "code",
   "execution_count": null,
   "metadata": {},
   "outputs": [],
   "source": [
    "import torch"
   ]
  },
  {
   "cell_type": "code",
   "execution_count": null,
   "metadata": {},
   "outputs": [],
   "source": [
    "t = torch.tensor(np.array([[32, 0, 1, 1, 1], [32, 0, 1, 0, 1], [32, 1, 0, 1, 1], [14, 1, 1, 1, 1], [76, 0, 1, 1, 0], [14, 1, 0, 0, 1]]))\n",
    "t"
   ]
  },
  {
   "cell_type": "code",
   "execution_count": null,
   "metadata": {},
   "outputs": [],
   "source": [
    "[tensor.item() for tensor in list(t[:, 0])]"
   ]
  },
  {
   "cell_type": "code",
   "execution_count": null,
   "metadata": {},
   "outputs": [],
   "source": [
    "set([tensor.item() for tensor in list(t[:, 0])])"
   ]
  },
  {
   "cell_type": "code",
   "execution_count": null,
   "metadata": {},
   "outputs": [],
   "source": [
    "[str(item) for item in set([tensor.item() for tensor in list(t[:, 0])])]"
   ]
  },
  {
   "cell_type": "code",
   "execution_count": null,
   "metadata": {},
   "outputs": [],
   "source": [
    "ModelInterpreter.instance_importance_plot()"
   ]
  },
  {
   "cell_type": "code",
   "execution_count": null,
   "metadata": {},
   "outputs": [],
   "source": []
  }
 ],
 "metadata": {
  "kernelspec": {
   "display_name": "fcul-als-python",
   "language": "python",
   "name": "fcul-als-python"
  },
  "language_info": {
   "codemirror_mode": {
    "name": "ipython",
    "version": 3
   },
   "file_extension": ".py",
   "mimetype": "text/x-python",
   "name": "python",
   "nbconvert_exporter": "python",
   "pygments_lexer": "ipython3",
   "version": "3.7.3"
  }
 },
 "nbformat": 4,
 "nbformat_minor": 2
}
