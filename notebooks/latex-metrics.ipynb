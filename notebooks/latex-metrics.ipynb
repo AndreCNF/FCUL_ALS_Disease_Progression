{
 "cells": [
  {
   "cell_type": "markdown",
   "metadata": {},
   "source": [
    "# FCUL ALS LaTeX Metrics\n",
    "---\n",
    "\n",
    "Joining the metrics of the models trained on the ALS dataset from Faculdade de Ciências da Universidade de Lisboa (FCUL) with the data from over 1000 patients collected in Portugal."
   ]
  },
  {
   "cell_type": "markdown",
   "metadata": {
    "colab_type": "text",
    "id": "KOdmFzXqF7nq"
   },
   "source": [
    "## Importing the necessary packages"
   ]
  },
  {
   "cell_type": "code",
   "execution_count": null,
   "metadata": {},
   "outputs": [],
   "source": [
    "import os                                  # os handles directory/workspace changes\n",
    "import yaml                                # Save and load YAML files"
   ]
  },
  {
   "cell_type": "code",
   "execution_count": null,
   "metadata": {},
   "outputs": [],
   "source": [
    "import pixiedust                           # Debugging in Jupyter Notebook cells"
   ]
  },
  {
   "cell_type": "code",
   "execution_count": null,
   "metadata": {},
   "outputs": [],
   "source": [
    "# Path to the metrics\n",
    "metrics_path = 'GitHub/FCUL_ALS_Disease_Progression/metrics/aggregate/'"
   ]
  },
  {
   "cell_type": "code",
   "execution_count": null,
   "metadata": {},
   "outputs": [],
   "source": [
    "# Change to parent directory (presumably \"Documents\")\n",
    "os.chdir(\"../../..\")\n",
    "import pandas as pd                        # Pandas to load and handle the data\n",
    "import data_utils as du                    # Data science and machine learning relevant methods"
   ]
  },
  {
   "cell_type": "code",
   "execution_count": null,
   "metadata": {
    "Collapsed": "false"
   },
   "outputs": [],
   "source": [
    "du.set_pandas_library(lib='pandas')"
   ]
  },
  {
   "cell_type": "markdown",
   "metadata": {},
   "source": [
    "Allow pandas to show more columns:"
   ]
  },
  {
   "cell_type": "code",
   "execution_count": null,
   "metadata": {},
   "outputs": [],
   "source": [
    "pd.set_option('display.max_columns', 3000)\n",
    "pd.set_option('display.max_rows', 3000)"
   ]
  },
  {
   "cell_type": "markdown",
   "metadata": {},
   "source": [
    "Set the random seed for reproducibility:"
   ]
  },
  {
   "cell_type": "code",
   "execution_count": null,
   "metadata": {},
   "outputs": [],
   "source": [
    "du.set_random_seed(42)"
   ]
  },
  {
   "cell_type": "markdown",
   "metadata": {},
   "source": [
    "Allow Jupyter Lab to display all outputs:"
   ]
  },
  {
   "cell_type": "code",
   "execution_count": null,
   "metadata": {},
   "outputs": [],
   "source": [
    "from IPython.core.interactiveshell import InteractiveShell\n",
    "InteractiveShell.ast_node_interactivity = 'all'"
   ]
  },
  {
   "cell_type": "markdown",
   "metadata": {},
   "source": [
    "## Loading the data"
   ]
  },
  {
   "cell_type": "code",
   "execution_count": null,
   "metadata": {},
   "outputs": [],
   "source": [
    "metrics_files = os.listdir(metrics_path)\n",
    "try:\n",
    "    metrics_files.remove('.DS_Store')\n",
    "except:\n",
    "    pass\n",
    "metrics_files"
   ]
  },
  {
   "cell_type": "markdown",
   "metadata": {},
   "source": [
    "Create a dictionary with all the metrics:"
   ]
  },
  {
   "cell_type": "code",
   "execution_count": null,
   "metadata": {},
   "outputs": [],
   "source": [
    "metrics = dict()\n",
    "for file_name in metrics_files:\n",
    "    # Load the current metrics file\n",
    "    stream = open(f'{metrics_path}{file_name}', 'r')\n",
    "    model_metrics = yaml.load(stream, Loader=yaml.FullLoader)\n",
    "    # Remove the extension from the name\n",
    "    file_name = file_name.split('.yml')[0]\n",
    "    # Define the model name which will appear in the table\n",
    "    model_name = ''\n",
    "    if 'bidir' in file_name:\n",
    "        model_name = 'Bidirectional '\n",
    "    if 'tlstm' in file_name:\n",
    "        model_name += 'TLSTM'\n",
    "    elif 'mf1lstm' in file_name:\n",
    "        model_name += 'MF1-LSTM'\n",
    "    elif 'mf2lstm' in file_name:\n",
    "        model_name += 'MF2-LSTM'\n",
    "    elif 'lstm' in file_name:\n",
    "        model_name += 'LSTM'\n",
    "    elif 'rnn' in file_name:\n",
    "        model_name += 'RNN'\n",
    "    elif 'xgb' in file_name:\n",
    "        model_name += 'XGBoost'\n",
    "    elif 'logreg' in file_name:\n",
    "        model_name += 'Logistic Regression'\n",
    "    elif 'svm' in file_name:\n",
    "        model_name += 'SVM'\n",
    "    if 'embed' in file_name:\n",
    "        model_name += ', embedded'\n",
    "    if 'delta_ts' in file_name:\n",
    "        model_name += ', time aware'\n",
    "    # Create a dictionary entry for the current model\n",
    "    metrics[model_name] = dict()\n",
    "    metrics[model_name]['Avg. Test AUC'] = model_metrics['test']['AUC']['mean']\n",
    "    metrics[model_name]['Std. Test AUC'] = model_metrics['test']['AUC']['std']"
   ]
  },
  {
   "cell_type": "code",
   "execution_count": null,
   "metadata": {},
   "outputs": [],
   "source": [
    "metrics"
   ]
  },
  {
   "cell_type": "markdown",
   "metadata": {},
   "source": [
    "Convert to a dataframe:"
   ]
  },
  {
   "cell_type": "code",
   "execution_count": null,
   "metadata": {},
   "outputs": [],
   "source": [
    "metrics_df = pd.DataFrame(metrics)\n",
    "metrics_df"
   ]
  },
  {
   "cell_type": "markdown",
   "metadata": {},
   "source": [
    "Transpose to have a row per model:"
   ]
  },
  {
   "cell_type": "code",
   "execution_count": null,
   "metadata": {},
   "outputs": [],
   "source": [
    "metrics_df = metrics_df.transpose()\n",
    "metrics_df"
   ]
  },
  {
   "cell_type": "code",
   "execution_count": null,
   "metadata": {},
   "outputs": [],
   "source": [
    "metrics_df = metrics_df.sort_values('Avg. Test AUC', ascending=False)\n",
    "metrics_df"
   ]
  },
  {
   "cell_type": "markdown",
   "metadata": {},
   "source": [
    "Convert to a LaTeX table:"
   ]
  },
  {
   "cell_type": "code",
   "execution_count": null,
   "metadata": {},
   "outputs": [],
   "source": [
    "metrics_df.to_latex()"
   ]
  },
  {
   "cell_type": "code",
   "execution_count": null,
   "metadata": {},
   "outputs": [],
   "source": []
  }
 ],
 "metadata": {
  "jupytext": {
   "cell_metadata_filter": "-all",
   "formats": "ipynb,py:light",
   "notebook_metadata_filter": "-all"
  },
  "kernelspec": {
   "display_name": "fcul_als_disease_progression",
   "language": "python",
   "name": "fcul_als_disease_progression"
  },
  "language_info": {
   "codemirror_mode": {
    "name": "ipython",
    "version": 3
   },
   "file_extension": ".py",
   "mimetype": "text/x-python",
   "name": "python",
   "nbconvert_exporter": "python",
   "pygments_lexer": "ipython3",
   "version": "3.7.4"
  }
 },
 "nbformat": 4,
 "nbformat_minor": 4
}
