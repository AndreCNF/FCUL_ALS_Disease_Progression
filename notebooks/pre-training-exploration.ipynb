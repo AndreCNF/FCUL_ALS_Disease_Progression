{
 "cells": [
  {
   "cell_type": "markdown",
   "metadata": {},
   "source": [
    "# FCUL ALS Pre Training Exploration\n",
    "---\n",
    "\n",
    "Exploring the ALS dataset from Faculdade de Ciências da Universidade de Lisboa (FCUL) with the data from over 1000 patients collected in Portugal.\n",
    "\n",
    "Just playing around with the cleaned dataframe before inputing it to the machine learning pipeline."
   ]
  },
  {
   "cell_type": "markdown",
   "metadata": {
    "colab_type": "text",
    "id": "KOdmFzXqF7nq"
   },
   "source": [
    "## Importing the necessary packages"
   ]
  },
  {
   "cell_type": "code",
   "execution_count": null,
   "metadata": {
    "colab": {},
    "colab_type": "code",
    "id": "G5RrWE9R_Nkl"
   },
   "outputs": [],
   "source": [
    "import pandas as pd              # Pandas to handle the data in dataframes\n",
    "import re                        # re to do regex searches in string data\n",
    "import plotly                    # Plotly for interactive and pretty plots\n",
    "import plotly.graph_objs as go\n",
    "from datetime import datetime    # datetime to use proper date and time formats\n",
    "import os                        # os handles directory/workspace changes\n",
    "import numpy as np               # NumPy to handle numeric and NaN operations\n",
    "from tqdm import tqdm_notebook   # tqdm allows to track code execution progress\n",
    "import numbers                   # numbers allows to check if data is numeric\n",
    "import torch                     # PyTorch to create and apply deep learning models\n",
    "from torch.utils.data.sampler import SubsetRandomSampler\n",
    "import data_utils as du          # Data science and machine learning relevant methods"
   ]
  },
  {
   "cell_type": "code",
   "execution_count": null,
   "metadata": {},
   "outputs": [],
   "source": [
    "import plotly.io as pio\n",
    "pio.templates"
   ]
  },
  {
   "cell_type": "markdown",
   "metadata": {},
   "source": [
    "Use Plotly in dark mode:"
   ]
  },
  {
   "cell_type": "code",
   "execution_count": null,
   "metadata": {},
   "outputs": [],
   "source": [
    "pio.templates.default = 'plotly_dark'"
   ]
  },
  {
   "cell_type": "code",
   "execution_count": null,
   "metadata": {},
   "outputs": [],
   "source": [
    "# Change to parent directory (presumably \"Documents\")\n",
    "os.chdir(\"../../..\")\n",
    "# Path to the CSV dataset files\n",
    "data_path = 'Datasets/Thesis/FCUL_ALS/cleaned/'"
   ]
  },
  {
   "cell_type": "code",
   "execution_count": null,
   "metadata": {},
   "outputs": [],
   "source": [
    "du.set_pandas_library(lib='pandas')"
   ]
  },
  {
   "cell_type": "markdown",
   "metadata": {},
   "source": [
    "Allow pandas to show more columns:"
   ]
  },
  {
   "cell_type": "code",
   "execution_count": null,
   "metadata": {},
   "outputs": [],
   "source": [
    "pd.set_option('display.max_columns', 3000)\n",
    "pd.set_option('display.max_rows', 3000)"
   ]
  },
  {
   "cell_type": "markdown",
   "metadata": {},
   "source": [
    "Set the random seed for reproducibility:"
   ]
  },
  {
   "cell_type": "code",
   "execution_count": null,
   "metadata": {},
   "outputs": [],
   "source": [
    "du.set_random_seed(42)"
   ]
  },
  {
   "cell_type": "markdown",
   "metadata": {},
   "source": [
    "## Exploring the cleaned dataset"
   ]
  },
  {
   "cell_type": "markdown",
   "metadata": {},
   "source": [
    "### Loading the data"
   ]
  },
  {
   "cell_type": "markdown",
   "metadata": {},
   "source": [
    "Original data:"
   ]
  },
  {
   "cell_type": "code",
   "execution_count": null,
   "metadata": {},
   "outputs": [],
   "source": [
    "orig_ALS_df = pd.read_csv(f'{data_path}FCUL_ALS_cleaned_denorm.csv')\n",
    "orig_ALS_df.drop(columns=['Unnamed: 0'], inplace=True)\n",
    "orig_ALS_df.head()"
   ]
  },
  {
   "cell_type": "markdown",
   "metadata": {},
   "source": [
    "Preprocessed data:"
   ]
  },
  {
   "cell_type": "code",
   "execution_count": null,
   "metadata": {},
   "outputs": [],
   "source": [
    "ALS_proc_df = pd.read_csv(f'{data_path}FCUL_ALS_cleaned.csv')\n",
    "ALS_proc_df.drop(columns=['Unnamed: 0'], inplace=True)\n",
    "ALS_proc_df.head()"
   ]
  },
  {
   "cell_type": "markdown",
   "metadata": {},
   "source": [
    "### Basic stuff"
   ]
  },
  {
   "cell_type": "code",
   "execution_count": null,
   "metadata": {},
   "outputs": [],
   "source": [
    "ALS_proc_df.dtypes"
   ]
  },
  {
   "cell_type": "code",
   "execution_count": null,
   "metadata": {},
   "outputs": [],
   "source": [
    "ALS_proc_df.nunique()"
   ]
  },
  {
   "cell_type": "code",
   "execution_count": null,
   "metadata": {},
   "outputs": [],
   "source": [
    "du.search_explore.dataframe_missing_values(ALS_proc_df)"
   ]
  },
  {
   "cell_type": "code",
   "execution_count": null,
   "metadata": {},
   "outputs": [],
   "source": [
    "ALS_proc_df.describe().transpose()"
   ]
  },
  {
   "cell_type": "code",
   "execution_count": null,
   "metadata": {},
   "outputs": [],
   "source": [
    "orig_ALS_df.describe().transpose()"
   ]
  },
  {
   "cell_type": "markdown",
   "metadata": {},
   "source": [
    "Number of model features:"
   ]
  },
  {
   "cell_type": "code",
   "execution_count": null,
   "metadata": {},
   "outputs": [],
   "source": [
    "len(ALS_proc_df.columns) - 4"
   ]
  },
  {
   "cell_type": "markdown",
   "metadata": {},
   "source": [
    "Number of data points (# features x # rows):"
   ]
  },
  {
   "cell_type": "code",
   "execution_count": null,
   "metadata": {},
   "outputs": [],
   "source": [
    "len(ALS_proc_df.columns) * len(ALS_proc_df)"
   ]
  },
  {
   "cell_type": "markdown",
   "metadata": {},
   "source": [
    "### Label analysis"
   ]
  },
  {
   "cell_type": "markdown",
   "metadata": {},
   "source": [
    "Counting the samples with positive label:"
   ]
  },
  {
   "cell_type": "code",
   "execution_count": null,
   "metadata": {},
   "outputs": [],
   "source": [
    "label_count = ALS_proc_df.niv_label.value_counts()\n",
    "label_count"
   ]
  },
  {
   "cell_type": "code",
   "execution_count": null,
   "metadata": {},
   "outputs": [],
   "source": [
    "all(label_count == orig_ALS_df.niv_label.value_counts())"
   ]
  },
  {
   "cell_type": "code",
   "execution_count": null,
   "metadata": {},
   "outputs": [],
   "source": [
    "print(f'{(label_count[True] / (label_count[True] + label_count[False])) * 100}%')"
   ]
  },
  {
   "cell_type": "code",
   "execution_count": null,
   "metadata": {},
   "outputs": [],
   "source": [
    "label_per_subject_count = ALS_proc_df.groupby('subject_id').niv_label.max().value_counts()\n",
    "label_per_subject_count"
   ]
  },
  {
   "cell_type": "code",
   "execution_count": null,
   "metadata": {},
   "outputs": [],
   "source": [
    "print(f'{(label_per_subject_count[True] / (label_per_subject_count[True] + label_per_subject_count[False])) * 100}%')"
   ]
  },
  {
   "cell_type": "markdown",
   "metadata": {},
   "source": [
    "How many subjects always have the same label in their time series:"
   ]
  },
  {
   "cell_type": "code",
   "execution_count": null,
   "metadata": {},
   "outputs": [],
   "source": [
    "const_label_subj = list()\n",
    "for subject in ALS_proc_df.subject_id.unique():\n",
    "    subject_data = ALS_proc_df[ALS_proc_df.subject_id == subject]\n",
    "    if subject_data.niv_label.min() == subject_data.niv_label.max():\n",
    "        const_label_subj.append(subject)\n",
    "const_label_subj"
   ]
  },
  {
   "cell_type": "code",
   "execution_count": null,
   "metadata": {},
   "outputs": [],
   "source": [
    "len(const_label_subj)"
   ]
  },
  {
   "cell_type": "code",
   "execution_count": null,
   "metadata": {},
   "outputs": [],
   "source": [
    "percent_const_label_subj = (len(const_label_subj) / ALS_proc_df.subject_id.nunique()) * 100\n",
    "print(f'{percent_const_label_subj}%')"
   ]
  },
  {
   "cell_type": "markdown",
   "metadata": {},
   "source": [
    "**Comment:** It's a real bummer that over 60% of the subjects have a static / constant label value. But it is what it is. I think that I would have more to lose if I would remove all of these subjects' data, which still give the model an idea of what a patient needing NIV looks like, and vice versa."
   ]
  },
  {
   "cell_type": "markdown",
   "metadata": {},
   "source": [
    "### Time / sampling variation"
   ]
  },
  {
   "cell_type": "code",
   "execution_count": null,
   "metadata": {},
   "outputs": [],
   "source": [
    "ALS_proc_df['delta_ts'] = ALS_proc_df.groupby('subject_id').ts.diff()\n",
    "ALS_proc_df.head()"
   ]
  },
  {
   "cell_type": "code",
   "execution_count": null,
   "metadata": {},
   "outputs": [],
   "source": [
    "ALS_proc_df.delta_ts.describe()"
   ]
  },
  {
   "cell_type": "markdown",
   "metadata": {},
   "source": [
    "### Sequence length analysis"
   ]
  },
  {
   "cell_type": "code",
   "execution_count": null,
   "metadata": {},
   "outputs": [],
   "source": [
    "seq_len = ALS_proc_df.groupby('subject_id').ts.count()\n",
    "seq_len.head()"
   ]
  },
  {
   "cell_type": "code",
   "execution_count": null,
   "metadata": {},
   "outputs": [],
   "source": [
    "seq_len.describe()"
   ]
  },
  {
   "cell_type": "markdown",
   "metadata": {},
   "source": [
    "## Random exploratory stuff"
   ]
  },
  {
   "cell_type": "code",
   "execution_count": null,
   "metadata": {},
   "outputs": [],
   "source": [
    "labels = torch.Tensor([0, 0, 0, 1, 1, 1])\n",
    "pred = torch.Tensor([1, 0, 0, 0, 1, 1])\n",
    "correct_pred = pred == labels\n",
    "correct_pred"
   ]
  },
  {
   "cell_type": "code",
   "execution_count": null,
   "metadata": {},
   "outputs": [],
   "source": [
    "torch.masked_select(pred, labels.byte())"
   ]
  },
  {
   "cell_type": "code",
   "execution_count": null,
   "metadata": {},
   "outputs": [],
   "source": [
    "true_pos = int(sum(torch.masked_select(pred, labels.byte())))\n",
    "true_pos"
   ]
  },
  {
   "cell_type": "code",
   "execution_count": null,
   "metadata": {},
   "outputs": [],
   "source": [
    "false_neg = int(sum(torch.masked_select(pred == 0, labels.byte())))\n",
    "false_neg"
   ]
  },
  {
   "cell_type": "code",
   "execution_count": null,
   "metadata": {},
   "outputs": [],
   "source": [
    "true_neg = int(sum(torch.masked_select(pred == 0, (labels == 0).byte())))\n",
    "true_neg"
   ]
  },
  {
   "cell_type": "code",
   "execution_count": null,
   "metadata": {},
   "outputs": [],
   "source": [
    "false_pos = int(sum(torch.masked_select(pred, (labels == 0).byte())))\n",
    "false_pos"
   ]
  },
  {
   "cell_type": "code",
   "execution_count": null,
   "metadata": {},
   "outputs": [],
   "source": [
    "any(metric in ['a', 'b', 'c'] for metric in ['precision', 'recall', 'F1'])"
   ]
  },
  {
   "cell_type": "code",
   "execution_count": null,
   "metadata": {},
   "outputs": [],
   "source": [
    "x = 1"
   ]
  },
  {
   "cell_type": "code",
   "execution_count": null,
   "metadata": {},
   "outputs": [],
   "source": [
    "'x' in locals()"
   ]
  },
  {
   "cell_type": "markdown",
   "metadata": {},
   "source": [
    "### Plots"
   ]
  },
  {
   "cell_type": "code",
   "execution_count": null,
   "metadata": {},
   "outputs": [],
   "source": [
    "ALS_proc_gender_count = ALS_proc_df.groupby('subject_id').first().gender.value_counts().to_frame()\n",
    "data = [go.Pie(labels=ALS_proc_gender_count.index, values=ALS_proc_gender_count.gender)]\n",
    "layout = go.Layout(title='Patients Gender Demographics')\n",
    "fig = go.Figure(data, layout)\n",
    "fig.show()"
   ]
  },
  {
   "cell_type": "code",
   "execution_count": null,
   "metadata": {},
   "outputs": [],
   "source": [
    "data = [go.Histogram(x = orig_ALS_df.groupby('subject_id').first().age_at_onset)]\n",
    "layout = go.Layout(title='Patient age distribution')\n",
    "fig = go.Figure(data, layout)\n",
    "fig.show()"
   ]
  },
  {
   "cell_type": "code",
   "execution_count": null,
   "metadata": {},
   "outputs": [],
   "source": [
    "ALS_proc_niv_count = ALS_proc_df.niv.value_counts().to_frame()\n",
    "data = [go.Pie(labels=ALS_proc_niv_count.index, values=ALS_proc_niv_count.niv)]\n",
    "layout = go.Layout(title='Visits where the patient is using NIV')\n",
    "fig = go.Figure(data, layout)\n",
    "fig.show()"
   ]
  },
  {
   "cell_type": "code",
   "execution_count": null,
   "metadata": {},
   "outputs": [],
   "source": [
    "data = [go.Histogram(x = ALS_proc_df.niv)]\n",
    "layout = go.Layout(title='Number of visits where the patient is using NIV')\n",
    "fig = go.Figure(data, layout)\n",
    "fig.show()"
   ]
  },
  {
   "cell_type": "code",
   "execution_count": null,
   "metadata": {},
   "outputs": [],
   "source": [
    "ALS_proc_patient_niv_count = ALS_proc_df.groupby('subject_id').niv.max().value_counts().to_frame()\n",
    "data = [go.Pie(labels=ALS_proc_patient_niv_count.index, values=ALS_proc_patient_niv_count.niv)]\n",
    "layout = go.Layout(title='Patients which eventually use NIV')\n",
    "fig = go.Figure(data, layout)\n",
    "fig.show()"
   ]
  },
  {
   "cell_type": "code",
   "execution_count": null,
   "metadata": {},
   "outputs": [],
   "source": [
    "data = [go.Scatter(\n",
    "                    x = ALS_proc_df.fvc,\n",
    "                    y = ALS_proc_df.niv,\n",
    "                    mode = 'markers'\n",
    "                  )]\n",
    "layout = go.Layout(\n",
    "                    title='Relation between NIV use and FVC values',\n",
    "                    xaxis=dict(title='FVC'),\n",
    "                    yaxis=dict(title='NIV')\n",
    "                  )\n",
    "fig = go.Figure(data, layout)\n",
    "fig.show()"
   ]
  },
  {
   "cell_type": "code",
   "execution_count": null,
   "metadata": {},
   "outputs": [],
   "source": [
    "# Average FVC value when NIV is used:\n",
    "ALS_proc_df[ALS_proc_df.niv == 1].fvc.mean()"
   ]
  },
  {
   "cell_type": "markdown",
   "metadata": {},
   "source": [
    "**Comments:** The average FVC when NIV is 1 is lower than average, but the scatter plot doesn't show a very clear dependence between the variables."
   ]
  },
  {
   "cell_type": "code",
   "execution_count": null,
   "metadata": {},
   "outputs": [],
   "source": [
    "data = [go.Scatter(\n",
    "                    x = ALS_proc_df['disease_duration'],\n",
    "                    y = ALS_proc_df.niv,\n",
    "                    mode = 'markers'\n",
    "                  )]\n",
    "layout = go.Layout(\n",
    "                    title='Relation between NIV use and disease duration',\n",
    "                    xaxis=dict(title='Disease duration'),\n",
    "                    yaxis=dict(title='NIV')\n",
    "                  )\n",
    "fig = go.Figure(data, layout)\n",
    "fig.show()"
   ]
  },
  {
   "cell_type": "code",
   "execution_count": null,
   "metadata": {},
   "outputs": [],
   "source": [
    "# Average disease duration when NIV is used:\n",
    "ALS_proc_df[ALS_proc_df.niv == 1]['disease_duration'].mean()"
   ]
  },
  {
   "cell_type": "code",
   "execution_count": null,
   "metadata": {},
   "outputs": [],
   "source": [
    "data = [go.Scatter(\n",
    "                    x = ALS_proc_df['age_at_onset'],\n",
    "                    y = ALS_proc_df.niv,\n",
    "                    mode = 'markers'\n",
    "                  )]\n",
    "layout = go.Layout(\n",
    "                    title='Relation between NIV use and age',\n",
    "                    xaxis=dict(title='Age at onset'),\n",
    "                    yaxis=dict(title='NIV')\n",
    "                  )\n",
    "fig = go.Figure(data, layout)\n",
    "fig.show()"
   ]
  },
  {
   "cell_type": "code",
   "execution_count": null,
   "metadata": {},
   "outputs": [],
   "source": [
    "# Average age at onset when NIV is used:\n",
    "ALS_proc_df[ALS_proc_df.niv == 1]['age_at_onset'].mean()"
   ]
  },
  {
   "cell_type": "code",
   "execution_count": null,
   "metadata": {},
   "outputs": [],
   "source": [
    "ALS_proc_NIV_3R = ALS_proc_df.groupby(['3r', 'niv']).subject_id.count().to_frame().reset_index()\n",
    "data = [go.Bar(\n",
    "                    x=ALS_proc_NIV_3R[ALS_proc_NIV_3R.niv == 0]['3r'],\n",
    "                    y=ALS_proc_NIV_3R[ALS_proc_NIV_3R.niv == 0]['subject_id'],\n",
    "                    name='Not used'\n",
    "              ),\n",
    "        go.Bar(\n",
    "                    x=ALS_proc_NIV_3R[ALS_proc_NIV_3R.niv == 1]['3r'],\n",
    "                    y=ALS_proc_NIV_3R[ALS_proc_NIV_3R.niv == 1]['subject_id'],\n",
    "                    name='Using NIV'\n",
    "        )]\n",
    "layout = go.Layout(title='Relation between NIV use and normalized 3R', barmode='group')\n",
    "fig = go.Figure(data=data, layout=layout)\n",
    "fig.show()"
   ]
  },
  {
   "cell_type": "code",
   "execution_count": null,
   "metadata": {},
   "outputs": [],
   "source": [
    "ALS_NIV_3R = orig_ALS_df.groupby(['3r', 'niv']).subject_id.count().to_frame().reset_index()\n",
    "data = [go.Bar(\n",
    "                    x=ALS_NIV_3R[ALS_NIV_3R.niv == 0]['3r'],\n",
    "                    y=ALS_NIV_3R[ALS_NIV_3R.niv == 0]['subject_id'],\n",
    "                    name='Not used'\n",
    "              ),\n",
    "        go.Bar(\n",
    "                    x=ALS_NIV_3R[ALS_NIV_3R.niv == 1]['3r'],\n",
    "                    y=ALS_NIV_3R[ALS_NIV_3R.niv == 1]['subject_id'],\n",
    "                    name='Using NIV'\n",
    "        )]\n",
    "layout = go.Layout(title='Relation between NIV use and 3R', barmode='group')\n",
    "fig = go.Figure(data=data, layout=layout)\n",
    "fig.show()"
   ]
  },
  {
   "cell_type": "code",
   "execution_count": null,
   "metadata": {},
   "outputs": [],
   "source": [
    "# Average 3R value when NIV is used:\n",
    "ALS_proc_df[ALS_proc_df.niv == 1]['3r'].mean()"
   ]
  },
  {
   "cell_type": "markdown",
   "metadata": {},
   "source": [
    "**Comments:** Clearly, there's a big dependence of the use of NIV with the respiratory symptoms indicated by 3R, as expected."
   ]
  },
  {
   "cell_type": "code",
   "execution_count": null,
   "metadata": {},
   "outputs": [],
   "source": [
    "data = [go.Histogram(x = ALS_proc_df[ALS_proc_df.niv == 0].p10, name='Not used'),\n",
    "        go.Histogram(x = ALS_proc_df[ALS_proc_df.niv == 1].p10, name='Using NIV')]\n",
    "layout = go.Layout(title='Relation between NIV use and normalized P10.')\n",
    "fig = go.Figure(data, layout)\n",
    "fig.show()"
   ]
  },
  {
   "cell_type": "code",
   "execution_count": null,
   "metadata": {},
   "outputs": [],
   "source": [
    "data = [go.Histogram(x = orig_ALS_df[orig_ALS_df.niv == 0].p10, name='Not used'),\n",
    "        go.Histogram(x = orig_ALS_df[orig_ALS_df.niv == 1].p10, name='Using NIV')]\n",
    "layout = go.Layout(title='Relation between NIV use and P10.')\n",
    "fig = go.Figure(data, layout)\n",
    "fig.show()"
   ]
  },
  {
   "cell_type": "code",
   "execution_count": null,
   "metadata": {},
   "outputs": [],
   "source": [
    "# Average P10 value when NIV is used:\n",
    "ALS_proc_df[ALS_proc_df.niv == 1]['p10'].mean()"
   ]
  },
  {
   "cell_type": "markdown",
   "metadata": {},
   "source": [
    "**Comments:** Clearly, there's a big dependence of the use of NIV with the respiratory symptoms indicated by P10, as expected."
   ]
  },
  {
   "cell_type": "code",
   "execution_count": null,
   "metadata": {},
   "outputs": [],
   "source": [
    "ALS_proc_NIV_R = ALS_proc_df.groupby(['r', 'niv']).subject_id.count().to_frame().reset_index()\n",
    "data = [go.Bar(\n",
    "                    x=ALS_proc_NIV_R[ALS_proc_NIV_R.niv == 0]['r'],\n",
    "                    y=ALS_proc_NIV_R[ALS_proc_NIV_R.niv == 0]['subject_id'],\n",
    "                    name='Not used'\n",
    "              ),\n",
    "        go.Bar(\n",
    "                    x=ALS_proc_NIV_R[ALS_proc_NIV_R.niv == 1]['r'],\n",
    "                    y=ALS_proc_NIV_R[ALS_proc_NIV_R.niv == 1]['subject_id'],\n",
    "                    name='Using NIV'\n",
    "        )]\n",
    "layout = go.Layout(title='Relation between NIV use and normalized R', barmode='group')\n",
    "fig = go.Figure(data=data, layout=layout)\n",
    "fig.show()"
   ]
  },
  {
   "cell_type": "code",
   "execution_count": null,
   "metadata": {},
   "outputs": [],
   "source": [
    "ALS_NIV_R = orig_ALS_df.groupby(['r', 'niv']).subject_id.count().to_frame().reset_index()\n",
    "data = [go.Bar(\n",
    "                    x=ALS_NIV_R[ALS_NIV_R.niv == 0]['r'],\n",
    "                    y=ALS_NIV_R[ALS_NIV_R.niv == 0]['subject_id'],\n",
    "                    name='Not used'\n",
    "              ),\n",
    "        go.Bar(\n",
    "                    x=ALS_NIV_R[ALS_NIV_R.niv == 1]['r'],\n",
    "                    y=ALS_NIV_R[ALS_NIV_R.niv == 1]['subject_id'],\n",
    "                    name='Using NIV'\n",
    "        )]\n",
    "layout = go.Layout(title='Relation between NIV use and R', barmode='group')\n",
    "fig = go.Figure(data=data, layout=layout)\n",
    "fig.show()"
   ]
  },
  {
   "cell_type": "code",
   "execution_count": null,
   "metadata": {},
   "outputs": [],
   "source": [
    "# Average R value when NIV is used:\n",
    "ALS_proc_df[ALS_proc_df.niv == 1]['r'].mean()"
   ]
  },
  {
   "cell_type": "markdown",
   "metadata": {},
   "source": [
    "**Comments:** There seems to be a relationship between the use of NIV and the respiratory symptoms indicated by R, as expected."
   ]
  },
  {
   "cell_type": "code",
   "execution_count": null,
   "metadata": {},
   "outputs": [],
   "source": [
    "data = [go.Histogram(x = ALS_proc_df[ALS_proc_df.niv == 0].bmi, name='Not used'),\n",
    "        go.Histogram(x = ALS_proc_df[ALS_proc_df.niv == 1].bmi, name='Using NIV')]\n",
    "layout = go.Layout(title='Relation between NIV use and normalized BMI.')\n",
    "fig = go.Figure(data, layout)\n",
    "fig.show()"
   ]
  },
  {
   "cell_type": "code",
   "execution_count": null,
   "metadata": {},
   "outputs": [],
   "source": [
    "data = [go.Histogram(x = orig_ALS_df[orig_ALS_df.niv == 0].bmi, name='Not used'),\n",
    "        go.Histogram(x = orig_ALS_df[orig_ALS_df.niv == 1].bmi, name='Using NIV')]\n",
    "layout = go.Layout(title='Relation between NIV use and BMI.')\n",
    "fig = go.Figure(data, layout)\n",
    "fig.show()"
   ]
  },
  {
   "cell_type": "code",
   "execution_count": null,
   "metadata": {},
   "outputs": [],
   "source": [
    "# Average BMI value when NIV is used:\n",
    "ALS_proc_df[ALS_proc_df.niv == 1]['bmi'].mean()"
   ]
  },
  {
   "cell_type": "markdown",
   "metadata": {},
   "source": [
    "**Comments:** There is no clear, universal relationship between the use of NIV and BMI."
   ]
  },
  {
   "cell_type": "code",
   "execution_count": null,
   "metadata": {},
   "outputs": [],
   "source": [
    "ALS_proc_NIV_p5 = ALS_proc_df.groupby(['p5', 'niv']).subject_id.count().to_frame().reset_index()\n",
    "data = [go.Bar(\n",
    "                    x=ALS_proc_NIV_p5[ALS_proc_NIV_p5.niv == 0]['p5'],\n",
    "                    y=ALS_proc_NIV_p5[ALS_proc_NIV_p5.niv == 0]['subject_id'],\n",
    "                    name='Not used'\n",
    "              ),\n",
    "        go.Bar(\n",
    "                    x=ALS_proc_NIV_p5[ALS_proc_NIV_p5.niv == 1]['p5'],\n",
    "                    y=ALS_proc_NIV_p5[ALS_proc_NIV_p5.niv == 1]['subject_id'],\n",
    "                    name='Using NIV'\n",
    "        )]\n",
    "layout = go.Layout(title='Relation between NIV use and normalized P5', barmode='group')\n",
    "fig = go.Figure(data=data, layout=layout)\n",
    "fig.show()"
   ]
  },
  {
   "cell_type": "code",
   "execution_count": null,
   "metadata": {},
   "outputs": [],
   "source": [
    "ALS_NIV_p5 = orig_ALS_df.groupby(['p5', 'niv']).subject_id.count().to_frame().reset_index()\n",
    "data = [go.Bar(\n",
    "                    x=ALS_NIV_p5[ALS_NIV_p5.niv == 0]['p5'],\n",
    "                    y=ALS_NIV_p5[ALS_NIV_p5.niv == 0]['subject_id'],\n",
    "                    name='Not used'\n",
    "              ),\n",
    "        go.Bar(\n",
    "                    x=ALS_NIV_p5[ALS_NIV_p5.niv == 1]['p5'],\n",
    "                    y=ALS_NIV_p5[ALS_NIV_p5.niv == 1]['subject_id'],\n",
    "                    name='Using NIV'\n",
    "        )]\n",
    "layout = go.Layout(title='Relation between NIV use and P5', barmode='group')\n",
    "fig = go.Figure(data=data, layout=layout)\n",
    "fig.show()"
   ]
  },
  {
   "cell_type": "code",
   "execution_count": null,
   "metadata": {},
   "outputs": [],
   "source": [
    "# Average P5 value when NIV is used:\n",
    "ALS_proc_df[ALS_proc_df.niv == 1]['p5'].mean()"
   ]
  },
  {
   "cell_type": "markdown",
   "metadata": {},
   "source": [
    "**Comments:** There seems to be a relationship between the use of NIV and the strength symptoms indicated by P5."
   ]
  },
  {
   "cell_type": "code",
   "execution_count": null,
   "metadata": {},
   "outputs": [],
   "source": [
    "ALS_proc_NIV_P4 = ALS_proc_df.groupby(['p4', 'niv']).subject_id.count().to_frame().reset_index()\n",
    "data = [go.Bar(\n",
    "                    x=ALS_proc_NIV_P4[ALS_proc_NIV_P4.niv == 0]['p4'],\n",
    "                    y=ALS_proc_NIV_P4[ALS_proc_NIV_P4.niv == 0]['subject_id'],\n",
    "                    name='Not used'\n",
    "              ),\n",
    "        go.Bar(\n",
    "                    x=ALS_proc_NIV_P4[ALS_proc_NIV_P4.niv == 1]['p4'],\n",
    "                    y=ALS_proc_NIV_P4[ALS_proc_NIV_P4.niv == 1]['subject_id'],\n",
    "                    name='Using NIV'\n",
    "        )]\n",
    "layout = go.Layout(title='Relation between NIV use and normalized P4', barmode='group')\n",
    "fig = go.Figure(data=data, layout=layout)\n",
    "fig.show()"
   ]
  },
  {
   "cell_type": "code",
   "execution_count": null,
   "metadata": {},
   "outputs": [],
   "source": [
    "ALS_NIV_P4 = orig_ALS_df.groupby(['p4', 'niv']).subject_id.count().to_frame().reset_index()\n",
    "data = [go.Bar(\n",
    "                    x=ALS_NIV_P4[ALS_NIV_P4.niv == 0]['p4'],\n",
    "                    y=ALS_NIV_P4[ALS_NIV_P4.niv == 0]['subject_id'],\n",
    "                    name='Not used'\n",
    "              ),\n",
    "        go.Bar(\n",
    "                    x=ALS_NIV_P4[ALS_NIV_P4.niv == 1]['p4'],\n",
    "                    y=ALS_NIV_P4[ALS_NIV_P4.niv == 1]['subject_id'],\n",
    "                    name='Using NIV'\n",
    "        )]\n",
    "layout = go.Layout(title='Relation between NIV use and P4', barmode='group')\n",
    "fig = go.Figure(data=data, layout=layout)\n",
    "fig.show()"
   ]
  },
  {
   "cell_type": "code",
   "execution_count": null,
   "metadata": {},
   "outputs": [],
   "source": [
    "# Average P4 value when NIV is used:\n",
    "ALS_proc_df[ALS_proc_df.niv == 1]['p4'].mean()"
   ]
  },
  {
   "cell_type": "markdown",
   "metadata": {},
   "source": [
    "**Comments:** There seems to be a relationship between the use of NIV and the handwriting symptoms indicated by P4."
   ]
  },
  {
   "cell_type": "code",
   "execution_count": null,
   "metadata": {},
   "outputs": [],
   "source": [
    "data = [go.Histogram(x = ALS_proc_df[ALS_proc_df.niv == 0]['p0.1'], name='Not used'),\n",
    "        go.Histogram(x = ALS_proc_df[ALS_proc_df.niv == 1]['p0.1'], name='Using NIV')]\n",
    "layout = go.Layout(title='Relation between NIV use and normalized P0.1.')\n",
    "fig = go.Figure(data, layout)\n",
    "fig.show()"
   ]
  },
  {
   "cell_type": "code",
   "execution_count": null,
   "metadata": {},
   "outputs": [],
   "source": [
    "data = [go.Histogram(x = orig_ALS_df[orig_ALS_df.niv == 0]['p0.1'], name='Not used'),\n",
    "        go.Histogram(x = orig_ALS_df[orig_ALS_df.niv == 1]['p0.1'], name='Using NIV')]\n",
    "layout = go.Layout(title='Relation between NIV use and P0.1.')\n",
    "fig = go.Figure(data, layout)\n",
    "fig.show()"
   ]
  },
  {
   "cell_type": "code",
   "execution_count": null,
   "metadata": {},
   "outputs": [],
   "source": [
    "# Average P0.1 value when NIV is used:\n",
    "ALS_proc_df[ALS_proc_df.niv == 1]['p0.1'].mean()"
   ]
  },
  {
   "cell_type": "markdown",
   "metadata": {},
   "source": [
    "**Comments:** There is no clear, universal relationship between the use of NIV and P0.1."
   ]
  },
  {
   "cell_type": "code",
   "execution_count": null,
   "metadata": {},
   "outputs": [],
   "source": []
  }
 ],
 "metadata": {
  "jupytext": {
   "encoding": "# -*- coding: utf-8 -*-",
   "formats": "ipynb,py:light"
  },
  "kernelspec": {
   "display_name": "fcul_als_disease_progression",
   "language": "python",
   "name": "fcul_als_disease_progression"
  },
  "language_info": {
   "codemirror_mode": {
    "name": "ipython",
    "version": 3
   },
   "file_extension": ".py",
   "mimetype": "text/x-python",
   "name": "python",
   "nbconvert_exporter": "python",
   "pygments_lexer": "ipython3",
   "version": "3.7.4"
  }
 },
 "nbformat": 4,
 "nbformat_minor": 4
}
